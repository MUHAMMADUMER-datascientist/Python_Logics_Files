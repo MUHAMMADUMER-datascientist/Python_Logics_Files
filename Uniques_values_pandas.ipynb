{
  "nbformat": 4,
  "nbformat_minor": 0,
  "metadata": {
    "colab": {
      "provenance": []
    },
    "kernelspec": {
      "name": "python3",
      "display_name": "Python 3"
    },
    "language_info": {
      "name": "python"
    }
  },
  "cells": [
    {
      "cell_type": "code",
      "execution_count": 1,
      "metadata": {
        "colab": {
          "base_uri": "https://localhost:8080/"
        },
        "id": "Tb_mKgfLfxbn",
        "outputId": "a41e51eb-4b95-4ab2-ea87-d908e97f0a5e"
      },
      "outputs": [
        {
          "output_type": "stream",
          "name": "stdout",
          "text": [
            "Mounted at /content/gdrive\n"
          ]
        }
      ],
      "source": [
        "from google.colab import drive\n",
        "drive.mount('/content/gdrive')"
      ]
    },
    {
      "cell_type": "code",
      "source": [
        "import numpy as np\n",
        "import pandas as pd\n",
        "import matplotlib.pyplot as plt\n",
        "import seaborn as sns\n"
      ],
      "metadata": {
        "id": "Iz604mSMf-W8"
      },
      "execution_count": 2,
      "outputs": []
    },
    {
      "cell_type": "code",
      "source": [
        "df = pd.read_csv('/content/gdrive/MyDrive/power_outages_google_data.csv')"
      ],
      "metadata": {
        "id": "x88qheYGgBNd"
      },
      "execution_count": 3,
      "outputs": []
    },
    {
      "cell_type": "code",
      "source": [
        "def return_unique_values(data_frame):\n",
        "    unique_dataframe = pd.DataFrame()\n",
        "    unique_dataframe['Features'] = data_frame.columns\n",
        "    uniques = []\n",
        "    for col in data_frame.columns:\n",
        "        u = data_frame[col].nunique()\n",
        "        uniques.append(u)\n",
        "    unique_dataframe['Uniques'] = uniques\n",
        "    return unique_dataframe"
      ],
      "metadata": {
        "id": "gqobJGYigf9k"
      },
      "execution_count": 4,
      "outputs": []
    },
    {
      "cell_type": "code",
      "source": [
        "udf = return_unique_values(df)\n",
        "print(udf)"
      ],
      "metadata": {
        "colab": {
          "base_uri": "https://localhost:8080/"
        },
        "id": "MEQrkVA_g1E_",
        "outputId": "acb35c93-65ad-416c-d0b0-27f46528f36d"
      },
      "execution_count": 5,
      "outputs": [
        {
          "output_type": "stream",
          "name": "stdout",
          "text": [
            "                        Features  Uniques\n",
            "0              Event Description      390\n",
            "1                           Year       15\n",
            "2               Date Event Began     1030\n",
            "3               Time Event Began      810\n",
            "4            Date of Restoration     1142\n",
            "5            Time of Restoration      732\n",
            "6                     Respondent      529\n",
            "7               Geographic Areas     1001\n",
            "8                    NERC Region       22\n",
            "9               Demand Loss (MW)      364\n",
            "10  Number of Customers Affected      714\n",
            "11                          Tags       89\n"
          ]
        }
      ]
    },
    {
      "cell_type": "code",
      "source": [
        "f, ax = plt.subplots(1,1, figsize=(10,5))#plt.figure(figsize=(10, 5))\n",
        "\n",
        "sns.barplot(x=udf['Features'], y=udf['Uniques'], alpha=0.8)\n",
        "plt.title('Bar plot for #unique values in each column')\n",
        "plt.ylabel('#Unique values', fontsize=12)\n",
        "plt.xlabel('Features', fontsize=12)\n",
        "plt.xticks(rotation=90)\n",
        "plt.show()"
      ],
      "metadata": {
        "colab": {
          "base_uri": "https://localhost:8080/",
          "height": 497
        },
        "id": "T5Dbdxc2gilR",
        "outputId": "c25df467-07fa-4041-9977-b9d86234292d"
      },
      "execution_count": 6,
      "outputs": [
        {
          "output_type": "display_data",
          "data": {
            "text/plain": [
              "<Figure size 720x360 with 1 Axes>"
            ],
            "image/png": "[encoded data removed]"
          },
          "metadata": {
            "needs_background": "light"
          }
        }
      ]
    },
    {
      "cell_type": "code",
      "source": [],
      "metadata": {
        "id": "6LrTiMpAgiuU"
      },
      "execution_count": 6,
      "outputs": []
    }
  ]
}